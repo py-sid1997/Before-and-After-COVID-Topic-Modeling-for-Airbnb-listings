{
  "nbformat": 4,
  "nbformat_minor": 0,
  "metadata": {
    "colab": {
      "name": "Data separation.ipynb",
      "provenance": [],
      "collapsed_sections": []
    },
    "kernelspec": {
      "name": "python3",
      "display_name": "Python 3"
    },
    "language_info": {
      "name": "python"
    }
  },
  "cells": [
    {
      "cell_type": "code",
      "execution_count": null,
      "metadata": {
        "id": "7MPQSYU5iNak",
        "colab": {
          "base_uri": "https://localhost:8080/"
        },
        "outputId": "ba2d11c7-b26a-45c4-b5a3-bd3e522ad4c3"
      },
      "outputs": [
        {
          "output_type": "stream",
          "name": "stdout",
          "text": [
            "Mounted at /content/drive\n"
          ]
        }
      ],
      "source": [
        "from google.colab import drive\n",
        "drive.mount('/content/drive')\n",
        "import pandas as pd"
      ]
    },
    {
      "cell_type": "code",
      "source": [
        "path = '/content/drive/MyDrive/NLP Project/ABB final/Airbnb_nlp.csv'\n",
        "\n",
        "df=pd.read_csv(path)"
      ],
      "metadata": {
        "colab": {
          "base_uri": "https://localhost:8080/"
        },
        "id": "sbVJX2NulK0L",
        "outputId": "a730efe8-1e0a-409e-d19d-1287509337cd"
      },
      "execution_count": null,
      "outputs": [
        {
          "output_type": "stream",
          "name": "stderr",
          "text": [
            "/usr/local/lib/python3.7/dist-packages/IPython/core/interactiveshell.py:2882: DtypeWarning: Columns (20) have mixed types.Specify dtype option on import or set low_memory=False.\n",
            "  exec(code_obj, self.user_global_ns, self.user_ns)\n"
          ]
        }
      ]
    },
    {
      "cell_type": "code",
      "source": [
        "df.columns"
      ],
      "metadata": {
        "colab": {
          "base_uri": "https://localhost:8080/"
        },
        "id": "To6BXwwartlZ",
        "outputId": "078b7d03-b406-4609-f5c1-7527c6160c4c"
      },
      "execution_count": null,
      "outputs": [
        {
          "output_type": "execute_result",
          "data": {
            "text/plain": [
              "Index(['Unnamed: 0', 'id', 'listing_url', 'scrape_id', 'name', 'summary',\n",
              "       'description', 'host_id', 'host_since', 'host_location', 'host_about',\n",
              "       'host_response_time', 'host_has_profile_pic', 'street', 'neighbourhood',\n",
              "       'neighbourhood_cleansed', 'country', 'property_type', 'room_type',\n",
              "       'accommodates', 'price', 'cleaning_fee', 'calendar_last_scraped',\n",
              "       'number_of_reviews', 'reviews_per_month', 'last_review',\n",
              "       'review_scores_rating', 'review_scores_cleanliness'],\n",
              "      dtype='object')"
            ]
          },
          "metadata": {},
          "execution_count": 19
        }
      ]
    },
    {
      "cell_type": "code",
      "source": [
        "df.shape"
      ],
      "metadata": {
        "colab": {
          "base_uri": "https://localhost:8080/"
        },
        "id": "PBYONbVKNNi4",
        "outputId": "0d07ea62-5f57-42df-f217-1d09b90be013"
      },
      "execution_count": null,
      "outputs": [
        {
          "output_type": "execute_result",
          "data": {
            "text/plain": [
              "(1412578, 28)"
            ]
          },
          "metadata": {},
          "execution_count": 20
        }
      ]
    },
    {
      "cell_type": "code",
      "source": [
        "df=df[['id', 'name', 'summary','description', 'host_id','host_about','host_location', 'calendar_last_scraped']]\n",
        "df.head()"
      ],
      "metadata": {
        "colab": {
          "base_uri": "https://localhost:8080/",
          "height": 469
        },
        "id": "5nvWyGbxs7TE",
        "outputId": "38d2bd84-6897-4c52-f660-97615609758b"
      },
      "execution_count": null,
      "outputs": [
        {
          "output_type": "execute_result",
          "data": {
            "text/plain": [
              "          id                                 name  \\\n",
              "0   986942.0    Attic in Echo Park Hillside House   \n",
              "1  3249753.0   Art BNB @ Nomad Printmaking Studio   \n",
              "2  3250095.0  Art BNB @ nomaD Printmaking Studio    \n",
              "3  3250595.0   Art BNB @ nomAd Printmaking Studio   \n",
              "4  1941493.0    1915 L.A. River Retreat - Two Bed   \n",
              "\n",
              "                                             summary  \\\n",
              "0                                                NaN   \n",
              "1  Our Punk Shui industrial art space has cool, c...   \n",
              "2  Our Punk Shui industrial art space has cool, c...   \n",
              "3  Our Punk Shui industrial art space has cool, c...   \n",
              "4  Enjoy city & mountain views from the upper uni...   \n",
              "\n",
              "                                         description   host_id  \\\n",
              "0  Hi Travelers! We have a sweet, spacious attic ...    959023   \n",
              "1  Our Punk Shui industrial art space has cool, c...  12772297   \n",
              "2  Our Punk Shui industrial art space has cool, c...  12772297   \n",
              "3  Our Punk Shui industrial art space has cool, c...  12772297   \n",
              "4  Enjoy city & mountain views from the upper uni...  10042199   \n",
              "\n",
              "                                          host_about  \\\n",
              "0  Hi I'm Jonathan. I'm a parent & an artist. I'v...   \n",
              "1  My name is Damon Robinson. I am an LA based ar...   \n",
              "2  My name is Damon Robinson. I am an LA based ar...   \n",
              "3  My name is Damon Robinson. I am an LA based ar...   \n",
              "4  I love history and rivers. My building, which ...   \n",
              "\n",
              "                            host_location calendar_last_scraped  \n",
              "0  Los Angeles, California, United States            2015-09-02  \n",
              "1  Los Angeles, California, United States            2015-09-02  \n",
              "2  Los Angeles, California, United States            2015-09-02  \n",
              "3  Los Angeles, California, United States            2015-09-02  \n",
              "4  Los Angeles, California, United States            2015-09-02  "
            ],
            "text/html": [
              "\n",
              "  <div id=\"df-fb921f1f-247f-4458-9c06-35910ceaec06\">\n",
              "    <div class=\"colab-df-container\">\n",
              "      <div>\n",
              "<style scoped>\n",
              "    .dataframe tbody tr th:only-of-type {\n",
              "        vertical-align: middle;\n",
              "    }\n",
              "\n",
              "    .dataframe tbody tr th {\n",
              "        vertical-align: top;\n",
              "    }\n",
              "\n",
              "    .dataframe thead th {\n",
              "        text-align: right;\n",
              "    }\n",
              "</style>\n",
              "<table border=\"1\" class=\"dataframe\">\n",
              "  <thead>\n",
              "    <tr style=\"text-align: right;\">\n",
              "      <th></th>\n",
              "      <th>id</th>\n",
              "      <th>name</th>\n",
              "      <th>summary</th>\n",
              "      <th>description</th>\n",
              "      <th>host_id</th>\n",
              "      <th>host_about</th>\n",
              "      <th>host_location</th>\n",
              "      <th>calendar_last_scraped</th>\n",
              "    </tr>\n",
              "  </thead>\n",
              "  <tbody>\n",
              "    <tr>\n",
              "      <th>0</th>\n",
              "      <td>986942.0</td>\n",
              "      <td>Attic in Echo Park Hillside House</td>\n",
              "      <td>NaN</td>\n",
              "      <td>Hi Travelers! We have a sweet, spacious attic ...</td>\n",
              "      <td>959023</td>\n",
              "      <td>Hi I'm Jonathan. I'm a parent &amp; an artist. I'v...</td>\n",
              "      <td>Los Angeles, California, United States</td>\n",
              "      <td>2015-09-02</td>\n",
              "    </tr>\n",
              "    <tr>\n",
              "      <th>1</th>\n",
              "      <td>3249753.0</td>\n",
              "      <td>Art BNB @ Nomad Printmaking Studio</td>\n",
              "      <td>Our Punk Shui industrial art space has cool, c...</td>\n",
              "      <td>Our Punk Shui industrial art space has cool, c...</td>\n",
              "      <td>12772297</td>\n",
              "      <td>My name is Damon Robinson. I am an LA based ar...</td>\n",
              "      <td>Los Angeles, California, United States</td>\n",
              "      <td>2015-09-02</td>\n",
              "    </tr>\n",
              "    <tr>\n",
              "      <th>2</th>\n",
              "      <td>3250095.0</td>\n",
              "      <td>Art BNB @ nomaD Printmaking Studio</td>\n",
              "      <td>Our Punk Shui industrial art space has cool, c...</td>\n",
              "      <td>Our Punk Shui industrial art space has cool, c...</td>\n",
              "      <td>12772297</td>\n",
              "      <td>My name is Damon Robinson. I am an LA based ar...</td>\n",
              "      <td>Los Angeles, California, United States</td>\n",
              "      <td>2015-09-02</td>\n",
              "    </tr>\n",
              "    <tr>\n",
              "      <th>3</th>\n",
              "      <td>3250595.0</td>\n",
              "      <td>Art BNB @ nomAd Printmaking Studio</td>\n",
              "      <td>Our Punk Shui industrial art space has cool, c...</td>\n",
              "      <td>Our Punk Shui industrial art space has cool, c...</td>\n",
              "      <td>12772297</td>\n",
              "      <td>My name is Damon Robinson. I am an LA based ar...</td>\n",
              "      <td>Los Angeles, California, United States</td>\n",
              "      <td>2015-09-02</td>\n",
              "    </tr>\n",
              "    <tr>\n",
              "      <th>4</th>\n",
              "      <td>1941493.0</td>\n",
              "      <td>1915 L.A. River Retreat - Two Bed</td>\n",
              "      <td>Enjoy city &amp; mountain views from the upper uni...</td>\n",
              "      <td>Enjoy city &amp; mountain views from the upper uni...</td>\n",
              "      <td>10042199</td>\n",
              "      <td>I love history and rivers. My building, which ...</td>\n",
              "      <td>Los Angeles, California, United States</td>\n",
              "      <td>2015-09-02</td>\n",
              "    </tr>\n",
              "  </tbody>\n",
              "</table>\n",
              "</div>\n",
              "      <button class=\"colab-df-convert\" onclick=\"convertToInteractive('df-fb921f1f-247f-4458-9c06-35910ceaec06')\"\n",
              "              title=\"Convert this dataframe to an interactive table.\"\n",
              "              style=\"display:none;\">\n",
              "        \n",
              "  <svg xmlns=\"http://www.w3.org/2000/svg\" height=\"24px\"viewBox=\"0 0 24 24\"\n",
              "       width=\"24px\">\n",
              "    <path d=\"M0 0h24v24H0V0z\" fill=\"none\"/>\n",
              "    <path d=\"M18.56 5.44l.94 2.06.94-2.06 2.06-.94-2.06-.94-.94-2.06-.94 2.06-2.06.94zm-11 1L8.5 8.5l.94-2.06 2.06-.94-2.06-.94L8.5 2.5l-.94 2.06-2.06.94zm10 10l.94 2.06.94-2.06 2.06-.94-2.06-.94-.94-2.06-.94 2.06-2.06.94z\"/><path d=\"M17.41 7.96l-1.37-1.37c-.4-.4-.92-.59-1.43-.59-.52 0-1.04.2-1.43.59L10.3 9.45l-7.72 7.72c-.78.78-.78 2.05 0 2.83L4 21.41c.39.39.9.59 1.41.59.51 0 1.02-.2 1.41-.59l7.78-7.78 2.81-2.81c.8-.78.8-2.07 0-2.86zM5.41 20L4 18.59l7.72-7.72 1.47 1.35L5.41 20z\"/>\n",
              "  </svg>\n",
              "      </button>\n",
              "      \n",
              "  <style>\n",
              "    .colab-df-container {\n",
              "      display:flex;\n",
              "      flex-wrap:wrap;\n",
              "      gap: 12px;\n",
              "    }\n",
              "\n",
              "    .colab-df-convert {\n",
              "      background-color: #E8F0FE;\n",
              "      border: none;\n",
              "      border-radius: 50%;\n",
              "      cursor: pointer;\n",
              "      display: none;\n",
              "      fill: #1967D2;\n",
              "      height: 32px;\n",
              "      padding: 0 0 0 0;\n",
              "      width: 32px;\n",
              "    }\n",
              "\n",
              "    .colab-df-convert:hover {\n",
              "      background-color: #E2EBFA;\n",
              "      box-shadow: 0px 1px 2px rgba(60, 64, 67, 0.3), 0px 1px 3px 1px rgba(60, 64, 67, 0.15);\n",
              "      fill: #174EA6;\n",
              "    }\n",
              "\n",
              "    [theme=dark] .colab-df-convert {\n",
              "      background-color: #3B4455;\n",
              "      fill: #D2E3FC;\n",
              "    }\n",
              "\n",
              "    [theme=dark] .colab-df-convert:hover {\n",
              "      background-color: #434B5C;\n",
              "      box-shadow: 0px 1px 3px 1px rgba(0, 0, 0, 0.15);\n",
              "      filter: drop-shadow(0px 1px 2px rgba(0, 0, 0, 0.3));\n",
              "      fill: #FFFFFF;\n",
              "    }\n",
              "  </style>\n",
              "\n",
              "      <script>\n",
              "        const buttonEl =\n",
              "          document.querySelector('#df-fb921f1f-247f-4458-9c06-35910ceaec06 button.colab-df-convert');\n",
              "        buttonEl.style.display =\n",
              "          google.colab.kernel.accessAllowed ? 'block' : 'none';\n",
              "\n",
              "        async function convertToInteractive(key) {\n",
              "          const element = document.querySelector('#df-fb921f1f-247f-4458-9c06-35910ceaec06');\n",
              "          const dataTable =\n",
              "            await google.colab.kernel.invokeFunction('convertToInteractive',\n",
              "                                                     [key], {});\n",
              "          if (!dataTable) return;\n",
              "\n",
              "          const docLinkHtml = 'Like what you see? Visit the ' +\n",
              "            '<a target=\"_blank\" href=https://colab.research.google.com/notebooks/data_table.ipynb>data table notebook</a>'\n",
              "            + ' to learn more about interactive tables.';\n",
              "          element.innerHTML = '';\n",
              "          dataTable['output_type'] = 'display_data';\n",
              "          await google.colab.output.renderOutput(dataTable, element);\n",
              "          const docLink = document.createElement('div');\n",
              "          docLink.innerHTML = docLinkHtml;\n",
              "          element.appendChild(docLink);\n",
              "        }\n",
              "      </script>\n",
              "    </div>\n",
              "  </div>\n",
              "  "
            ]
          },
          "metadata": {},
          "execution_count": 21
        }
      ]
    },
    {
      "cell_type": "code",
      "source": [
        "(df.host_location.value_counts())[0:5]"
      ],
      "metadata": {
        "colab": {
          "base_uri": "https://localhost:8080/"
        },
        "id": "uB6XR1Q6tDZ-",
        "outputId": "ea8f14ae-f7d7-4da9-8b84-45805ca267e8"
      },
      "execution_count": null,
      "outputs": [
        {
          "output_type": "execute_result",
          "data": {
            "text/plain": [
              "Los Angeles, California, United States      775528\n",
              "US                                          162772\n",
              "Long Beach, California, United States        34751\n",
              "Santa Monica, California, United States      33956\n",
              "Beverly Hills, California, United States     23770\n",
              "Name: host_location, dtype: int64"
            ]
          },
          "metadata": {},
          "execution_count": 22
        }
      ]
    },
    {
      "cell_type": "code",
      "source": [
        "# subsetting on LA as is the most prominent location\n",
        "# We could change the location as per our requirement and data in future here.\n",
        "\n",
        "df_la = df[df['host_location']=='Los Angeles, California, United States']"
      ],
      "metadata": {
        "id": "Y014k-_NtuYo"
      },
      "execution_count": null,
      "outputs": []
    },
    {
      "cell_type": "code",
      "source": [
        "df_la.shape"
      ],
      "metadata": {
        "colab": {
          "base_uri": "https://localhost:8080/"
        },
        "id": "A9BGsda4uwJe",
        "outputId": "3c9eb714-69b5-4de4-e219-37302a3222f2"
      },
      "execution_count": null,
      "outputs": [
        {
          "output_type": "execute_result",
          "data": {
            "text/plain": [
              "(775528, 8)"
            ]
          },
          "metadata": {},
          "execution_count": 24
        }
      ]
    },
    {
      "cell_type": "code",
      "source": [
        "df_la.nunique()"
      ],
      "metadata": {
        "colab": {
          "base_uri": "https://localhost:8080/"
        },
        "id": "fNhw7pHeTXX1",
        "outputId": "9159e613-5449-46fc-b492-ba4215ac40b1"
      },
      "execution_count": null,
      "outputs": [
        {
          "output_type": "execute_result",
          "data": {
            "text/plain": [
              "id                        70817\n",
              "name                     101137\n",
              "summary                  102210\n",
              "description              128217\n",
              "host_id                   34768\n",
              "host_about                32277\n",
              "host_location                 1\n",
              "calendar_last_scraped        82\n",
              "dtype: int64"
            ]
          },
          "metadata": {},
          "execution_count": 33
        }
      ]
    },
    {
      "cell_type": "code",
      "source": [
        "df_la.isna().sum()"
      ],
      "metadata": {
        "colab": {
          "base_uri": "https://localhost:8080/"
        },
        "id": "4odu8QnvyNwF",
        "outputId": "a6b5c07d-65ee-454e-b827-4754450536c0"
      },
      "execution_count": null,
      "outputs": [
        {
          "output_type": "execute_result",
          "data": {
            "text/plain": [
              "id                            0\n",
              "name                         49\n",
              "summary                   26686\n",
              "description                9885\n",
              "host_id                       0\n",
              "host_about               203530\n",
              "host_location                 0\n",
              "calendar_last_scraped         0\n",
              "dtype: int64"
            ]
          },
          "metadata": {},
          "execution_count": 25
        }
      ]
    },
    {
      "cell_type": "code",
      "source": [
        "# Filling up empty description with their respective summary if it is not empty, only 11 were there.\n",
        "\n",
        "df_la.description.fillna(df_la.summary,inplace=True)\n"
      ],
      "metadata": {
        "id": "WF84ekOXE4wj",
        "colab": {
          "base_uri": "https://localhost:8080/"
        },
        "outputId": "a8e4207b-f6f1-4211-badc-93f7ef72d1a2"
      },
      "execution_count": null,
      "outputs": [
        {
          "output_type": "stream",
          "name": "stderr",
          "text": [
            "/usr/local/lib/python3.7/dist-packages/pandas/core/generic.py:6392: SettingWithCopyWarning: \n",
            "A value is trying to be set on a copy of a slice from a DataFrame\n",
            "\n",
            "See the caveats in the documentation: https://pandas.pydata.org/pandas-docs/stable/user_guide/indexing.html#returning-a-view-versus-a-copy\n",
            "  return self._update_inplace(result)\n"
          ]
        }
      ]
    },
    {
      "cell_type": "code",
      "source": [
        "df_la.isna().sum()"
      ],
      "metadata": {
        "colab": {
          "base_uri": "https://localhost:8080/"
        },
        "id": "_059y1JgOvCN",
        "outputId": "065ac0af-4038-44bb-d036-ef0f03bd8ea1"
      },
      "execution_count": null,
      "outputs": [
        {
          "output_type": "execute_result",
          "data": {
            "text/plain": [
              "id                            0\n",
              "name                         49\n",
              "summary                   26686\n",
              "description                9875\n",
              "host_id                       0\n",
              "host_about               203530\n",
              "host_location                 0\n",
              "calendar_last_scraped         0\n",
              "dtype: int64"
            ]
          },
          "metadata": {},
          "execution_count": 27
        }
      ]
    },
    {
      "cell_type": "code",
      "source": [
        "# confirming that we have description non empty here\n",
        "(df_la['description'].isna() & ~df_la['summary'].isna()).sum()"
      ],
      "metadata": {
        "colab": {
          "base_uri": "https://localhost:8080/"
        },
        "id": "ipzI2wt_DJEr",
        "outputId": "cc2aacae-6a0e-4898-d38f-fb3c893525e8"
      },
      "execution_count": null,
      "outputs": [
        {
          "output_type": "execute_result",
          "data": {
            "text/plain": [
              "0"
            ]
          },
          "metadata": {},
          "execution_count": 28
        }
      ]
    },
    {
      "cell_type": "code",
      "source": [
        "# only the needed columns\n",
        "df_la_text=df_la[['id', 'name', 'description','host_id','host_about', 'calendar_last_scraped']]"
      ],
      "metadata": {
        "id": "-OzeHKXK02Fx"
      },
      "execution_count": null,
      "outputs": []
    },
    {
      "cell_type": "code",
      "source": [
        "df_la_text.head()"
      ],
      "metadata": {
        "colab": {
          "base_uri": "https://localhost:8080/",
          "height": 333
        },
        "id": "OXJBAmytQH0Z",
        "outputId": "f575f238-8297-41d2-c3f4-b6cf8018cd70"
      },
      "execution_count": null,
      "outputs": [
        {
          "output_type": "execute_result",
          "data": {
            "text/plain": [
              "          id                                 name  \\\n",
              "0   986942.0    Attic in Echo Park Hillside House   \n",
              "1  3249753.0   Art BNB @ Nomad Printmaking Studio   \n",
              "2  3250095.0  Art BNB @ nomaD Printmaking Studio    \n",
              "3  3250595.0   Art BNB @ nomAd Printmaking Studio   \n",
              "4  1941493.0    1915 L.A. River Retreat - Two Bed   \n",
              "\n",
              "                                         description   host_id  \\\n",
              "0  Hi Travelers! We have a sweet, spacious attic ...    959023   \n",
              "1  Our Punk Shui industrial art space has cool, c...  12772297   \n",
              "2  Our Punk Shui industrial art space has cool, c...  12772297   \n",
              "3  Our Punk Shui industrial art space has cool, c...  12772297   \n",
              "4  Enjoy city & mountain views from the upper uni...  10042199   \n",
              "\n",
              "                                          host_about calendar_last_scraped  \n",
              "0  Hi I'm Jonathan. I'm a parent & an artist. I'v...            2015-09-02  \n",
              "1  My name is Damon Robinson. I am an LA based ar...            2015-09-02  \n",
              "2  My name is Damon Robinson. I am an LA based ar...            2015-09-02  \n",
              "3  My name is Damon Robinson. I am an LA based ar...            2015-09-02  \n",
              "4  I love history and rivers. My building, which ...            2015-09-02  "
            ],
            "text/html": [
              "\n",
              "  <div id=\"df-394cf8bf-eab0-4f05-a80b-c1166df0c732\">\n",
              "    <div class=\"colab-df-container\">\n",
              "      <div>\n",
              "<style scoped>\n",
              "    .dataframe tbody tr th:only-of-type {\n",
              "        vertical-align: middle;\n",
              "    }\n",
              "\n",
              "    .dataframe tbody tr th {\n",
              "        vertical-align: top;\n",
              "    }\n",
              "\n",
              "    .dataframe thead th {\n",
              "        text-align: right;\n",
              "    }\n",
              "</style>\n",
              "<table border=\"1\" class=\"dataframe\">\n",
              "  <thead>\n",
              "    <tr style=\"text-align: right;\">\n",
              "      <th></th>\n",
              "      <th>id</th>\n",
              "      <th>name</th>\n",
              "      <th>description</th>\n",
              "      <th>host_id</th>\n",
              "      <th>host_about</th>\n",
              "      <th>calendar_last_scraped</th>\n",
              "    </tr>\n",
              "  </thead>\n",
              "  <tbody>\n",
              "    <tr>\n",
              "      <th>0</th>\n",
              "      <td>986942.0</td>\n",
              "      <td>Attic in Echo Park Hillside House</td>\n",
              "      <td>Hi Travelers! We have a sweet, spacious attic ...</td>\n",
              "      <td>959023</td>\n",
              "      <td>Hi I'm Jonathan. I'm a parent &amp; an artist. I'v...</td>\n",
              "      <td>2015-09-02</td>\n",
              "    </tr>\n",
              "    <tr>\n",
              "      <th>1</th>\n",
              "      <td>3249753.0</td>\n",
              "      <td>Art BNB @ Nomad Printmaking Studio</td>\n",
              "      <td>Our Punk Shui industrial art space has cool, c...</td>\n",
              "      <td>12772297</td>\n",
              "      <td>My name is Damon Robinson. I am an LA based ar...</td>\n",
              "      <td>2015-09-02</td>\n",
              "    </tr>\n",
              "    <tr>\n",
              "      <th>2</th>\n",
              "      <td>3250095.0</td>\n",
              "      <td>Art BNB @ nomaD Printmaking Studio</td>\n",
              "      <td>Our Punk Shui industrial art space has cool, c...</td>\n",
              "      <td>12772297</td>\n",
              "      <td>My name is Damon Robinson. I am an LA based ar...</td>\n",
              "      <td>2015-09-02</td>\n",
              "    </tr>\n",
              "    <tr>\n",
              "      <th>3</th>\n",
              "      <td>3250595.0</td>\n",
              "      <td>Art BNB @ nomAd Printmaking Studio</td>\n",
              "      <td>Our Punk Shui industrial art space has cool, c...</td>\n",
              "      <td>12772297</td>\n",
              "      <td>My name is Damon Robinson. I am an LA based ar...</td>\n",
              "      <td>2015-09-02</td>\n",
              "    </tr>\n",
              "    <tr>\n",
              "      <th>4</th>\n",
              "      <td>1941493.0</td>\n",
              "      <td>1915 L.A. River Retreat - Two Bed</td>\n",
              "      <td>Enjoy city &amp; mountain views from the upper uni...</td>\n",
              "      <td>10042199</td>\n",
              "      <td>I love history and rivers. My building, which ...</td>\n",
              "      <td>2015-09-02</td>\n",
              "    </tr>\n",
              "  </tbody>\n",
              "</table>\n",
              "</div>\n",
              "      <button class=\"colab-df-convert\" onclick=\"convertToInteractive('df-394cf8bf-eab0-4f05-a80b-c1166df0c732')\"\n",
              "              title=\"Convert this dataframe to an interactive table.\"\n",
              "              style=\"display:none;\">\n",
              "        \n",
              "  <svg xmlns=\"http://www.w3.org/2000/svg\" height=\"24px\"viewBox=\"0 0 24 24\"\n",
              "       width=\"24px\">\n",
              "    <path d=\"M0 0h24v24H0V0z\" fill=\"none\"/>\n",
              "    <path d=\"M18.56 5.44l.94 2.06.94-2.06 2.06-.94-2.06-.94-.94-2.06-.94 2.06-2.06.94zm-11 1L8.5 8.5l.94-2.06 2.06-.94-2.06-.94L8.5 2.5l-.94 2.06-2.06.94zm10 10l.94 2.06.94-2.06 2.06-.94-2.06-.94-.94-2.06-.94 2.06-2.06.94z\"/><path d=\"M17.41 7.96l-1.37-1.37c-.4-.4-.92-.59-1.43-.59-.52 0-1.04.2-1.43.59L10.3 9.45l-7.72 7.72c-.78.78-.78 2.05 0 2.83L4 21.41c.39.39.9.59 1.41.59.51 0 1.02-.2 1.41-.59l7.78-7.78 2.81-2.81c.8-.78.8-2.07 0-2.86zM5.41 20L4 18.59l7.72-7.72 1.47 1.35L5.41 20z\"/>\n",
              "  </svg>\n",
              "      </button>\n",
              "      \n",
              "  <style>\n",
              "    .colab-df-container {\n",
              "      display:flex;\n",
              "      flex-wrap:wrap;\n",
              "      gap: 12px;\n",
              "    }\n",
              "\n",
              "    .colab-df-convert {\n",
              "      background-color: #E8F0FE;\n",
              "      border: none;\n",
              "      border-radius: 50%;\n",
              "      cursor: pointer;\n",
              "      display: none;\n",
              "      fill: #1967D2;\n",
              "      height: 32px;\n",
              "      padding: 0 0 0 0;\n",
              "      width: 32px;\n",
              "    }\n",
              "\n",
              "    .colab-df-convert:hover {\n",
              "      background-color: #E2EBFA;\n",
              "      box-shadow: 0px 1px 2px rgba(60, 64, 67, 0.3), 0px 1px 3px 1px rgba(60, 64, 67, 0.15);\n",
              "      fill: #174EA6;\n",
              "    }\n",
              "\n",
              "    [theme=dark] .colab-df-convert {\n",
              "      background-color: #3B4455;\n",
              "      fill: #D2E3FC;\n",
              "    }\n",
              "\n",
              "    [theme=dark] .colab-df-convert:hover {\n",
              "      background-color: #434B5C;\n",
              "      box-shadow: 0px 1px 3px 1px rgba(0, 0, 0, 0.15);\n",
              "      filter: drop-shadow(0px 1px 2px rgba(0, 0, 0, 0.3));\n",
              "      fill: #FFFFFF;\n",
              "    }\n",
              "  </style>\n",
              "\n",
              "      <script>\n",
              "        const buttonEl =\n",
              "          document.querySelector('#df-394cf8bf-eab0-4f05-a80b-c1166df0c732 button.colab-df-convert');\n",
              "        buttonEl.style.display =\n",
              "          google.colab.kernel.accessAllowed ? 'block' : 'none';\n",
              "\n",
              "        async function convertToInteractive(key) {\n",
              "          const element = document.querySelector('#df-394cf8bf-eab0-4f05-a80b-c1166df0c732');\n",
              "          const dataTable =\n",
              "            await google.colab.kernel.invokeFunction('convertToInteractive',\n",
              "                                                     [key], {});\n",
              "          if (!dataTable) return;\n",
              "\n",
              "          const docLinkHtml = 'Like what you see? Visit the ' +\n",
              "            '<a target=\"_blank\" href=https://colab.research.google.com/notebooks/data_table.ipynb>data table notebook</a>'\n",
              "            + ' to learn more about interactive tables.';\n",
              "          element.innerHTML = '';\n",
              "          dataTable['output_type'] = 'display_data';\n",
              "          await google.colab.output.renderOutput(dataTable, element);\n",
              "          const docLink = document.createElement('div');\n",
              "          docLink.innerHTML = docLinkHtml;\n",
              "          element.appendChild(docLink);\n",
              "        }\n",
              "      </script>\n",
              "    </div>\n",
              "  </div>\n",
              "  "
            ]
          },
          "metadata": {},
          "execution_count": 32
        }
      ]
    },
    {
      "cell_type": "code",
      "source": [
        "# Saving in csv to use for topic modelling\n",
        "df_la_text.to_csv('Airbnb_la_text_nlp.csv')"
      ],
      "metadata": {
        "id": "blQej6Ti-fPk"
      },
      "execution_count": null,
      "outputs": []
    },
    {
      "cell_type": "code",
      "source": [
        "# Copying to drive (if using the google drive)/content/drive/MyDrive/NLP Project/ABB final\n",
        "!cp Airbnb_la_text_nlp.csv \"drive/My Drive/NLP Project/ABB final\""
      ],
      "metadata": {
        "id": "yEZy-1Fw-tHv"
      },
      "execution_count": 36,
      "outputs": []
    },
    {
      "cell_type": "code",
      "source": [
        ""
      ],
      "metadata": {
        "id": "3EV45mttfUav"
      },
      "execution_count": null,
      "outputs": []
    }
  ]
}